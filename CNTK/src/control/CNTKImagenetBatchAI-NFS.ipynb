{
 "cells": [
  {
   "cell_type": "code",
   "execution_count": null,
   "metadata": {
    "collapsed": true
   },
   "outputs": [],
   "source": [
    "!az login -o table"
   ]
  },
  {
   "cell_type": "code",
   "execution_count": null,
   "metadata": {
    "collapsed": true
   },
   "outputs": [],
   "source": [
    "!az provider register -n Microsoft.BatchAI\n",
    "!az provider register -n Microsoft.Batch"
   ]
  },
  {
   "cell_type": "code",
   "execution_count": 2,
   "metadata": {},
   "outputs": [
    {
     "name": "stdout",
     "output_type": "stream",
     "text": [
      "Name                                 CloudName    SubscriptionId                        State    IsDefault\r\n",
      "-----------------------------------  -----------  ------------------------------------  -------  -----------\r\n",
      "Marketing Automation                 AzureCloud   03909a66-bef8-4d52-8e9a-a346604e0902  Enabled\r\n",
      "Boston Engineering                   AzureCloud   bc4170f0-cc6e-49d2-ba65-bc00a7a4df6b  Enabled\r\n",
      "ADLTrainingMS                        AzureCloud   ace74b35-b0de-428b-a1d9-55459d7a6e30  Enabled\r\n",
      "Ads Eng Big Data Subscription        AzureCloud   d4231148-f093-4473-85de-8c4d19247495  Enabled\r\n",
      "Data Wrangling Preview               AzureCloud   215613ac-9dfb-488c-be46-c387e999b127  Enabled\r\n",
      "Data Wrangling development           AzureCloud   35f16a99-532a-4a47-9e93-00305f6c40f2  Enabled\r\n",
      "AzureML Client PROD                  AzureCloud   4a0f8d7f-c197-476b-95e1-fafcd77f12e4  Enabled\r\n",
      "R portal - Production                AzureCloud   2569dcd9-a995-4b78-ae22-58a1015fd0f7  Enabled\r\n",
      "Project Vienna Demo 1                AzureCloud   75f78a03-482f-4fd8-8c71-5ddc08f92726  Enabled\r\n",
      "Azure Internal - London              AzureCloud   1ba81249-8edd-4619-a486-3d28a2176aad  Enabled\r\n",
      "Boston DS Dev                        AzureCloud   0ca618d2-22a8-413a-96d0-0f1b531129c3  Enabled\r\n",
      "IMML R Engineering-SQL-ExpressRoute  AzureCloud   b3bef994-be52-4b6a-be38-43cf1b09f12b  Enabled\r\n",
      "UST Container Registration           AzureCloud   1f65a667-2b81-49ca-aea3-f8dd9fd3e1d9  Enabled\r\n",
      "MSEG_11036568 _A&I_Tabulars_RnD_01   AzureCloud   3260c1d9-fc9f-430a-9e98-17ff73167db0  Enabled\r\n",
      "Team Danielle Internal               AzureCloud   edf507a2-6235-46c5-b560-fd463ba2e771  Enabled  True\r\n"
     ]
    }
   ],
   "source": [
    "!az account list -o table"
   ]
  },
  {
   "cell_type": "code",
   "execution_count": null,
   "metadata": {
    "collapsed": true
   },
   "outputs": [],
   "source": [
    "!az account set -s \"<YOURTEAM>\""
   ]
  },
  {
   "cell_type": "code",
   "execution_count": 3,
   "metadata": {},
   "outputs": [
    {
     "name": "stdout",
     "output_type": "stream",
     "text": [
      "azure-cli (2.0.32)\r\n",
      "\r\n",
      "acr (2.0.24)\r\n",
      "acs (2.0.32)\r\n",
      "advisor (0.5.1)\r\n",
      "ams (0.1.0)\r\n",
      "appservice (0.1.32)\r\n",
      "backup (1.1.1)\r\n",
      "batch (3.2.2)\r\n",
      "batchai (0.2.2)\r\n",
      "billing (0.1.8)\r\n",
      "cdn (0.0.14)\r\n",
      "cloud (2.0.13)\r\n",
      "cognitiveservices (0.1.13)\r\n",
      "command-modules-nspkg (2.0.1)\r\n",
      "configure (2.0.15)\r\n",
      "consumption (0.3.1)\r\n",
      "container (0.1.23)\r\n",
      "core (2.0.32)\r\n",
      "cosmosdb (0.1.21)\r\n",
      "dla (0.0.19)\r\n",
      "dls (0.0.21)\r\n",
      "dms (0.0.1)\r\n",
      "eventgrid (0.1.12)\r\n",
      "eventhubs (0.1.3)\r\n",
      "extension (0.0.13)\r\n",
      "feedback (2.1.1)\r\n",
      "find (0.2.9)\r\n",
      "interactive (0.3.20)\r\n",
      "iot (0.1.20)\r\n",
      "keyvault (2.0.21)\r\n",
      "lab (0.0.22)\r\n",
      "monitor (0.1.6)\r\n",
      "network (2.1.0)\r\n",
      "nspkg (3.0.2)\r\n",
      "profile (2.0.24)\r\n",
      "rdbms (0.2.2)\r\n",
      "redis (0.2.13)\r\n",
      "reservations (0.1.2)\r\n",
      "resource (2.0.28)\r\n",
      "role (2.0.23)\r\n",
      "servicebus (0.1.2)\r\n",
      "servicefabric (0.0.12)\r\n",
      "sql (2.0.25)\r\n",
      "storage (2.0.32)\r\n",
      "vm (2.0.31)\r\n",
      "\r\n",
      "Python location '/opt/az/bin/python3'\r\n",
      "Extensions directory '/home/hoaphumanoid/.azure/cliextensions'\r\n",
      "\r\n",
      "Python (Linux) 3.6.1 (default, May  1 2018, 17:46:32) \r\n",
      "[GCC 4.7.2]\r\n",
      "\r\n",
      "Legal docs and information: aka.ms/AzureCliLegal\r\n",
      "\r\n",
      "\r\n"
     ]
    }
   ],
   "source": [
    "!az --version"
   ]
  },
  {
   "cell_type": "code",
   "execution_count": 4,
   "metadata": {
    "collapsed": true
   },
   "outputs": [],
   "source": [
    "import os\n",
    "import uuid\n",
    "import random\n",
    "import json\n",
    "\n",
    "def write_json_to_file(json_dict, filename):\n",
    "    \"\"\" Simple function to write JSON dictionaries to files\n",
    "    \"\"\"\n",
    "    with open(filename, 'w') as outfile:\n",
    "        json.dump(json_dict, outfile)\n",
    "\n",
    "LOCATION = 'eastus' # We are setting everything up in East US\n",
    "                    # Be aware that you need to set things up in a region that has GPU VMs (N-Series)\n",
    "\n",
    "short_uuid = str(uuid.uuid4())[:8]\n",
    "GROUP_NAME = \"batch{uuid}rg\".format(uuid=short_uuid)\n",
    "STORAGE_ACCOUNT_NAME = \"batch{uuid}st\".format(uuid=short_uuid)\n",
    "CONTAINER_NAME = \"batch{uuid}container\".format(uuid=short_uuid)\n",
    "FILESHARE_NAME = \"batch{uuid}share\".format(uuid=short_uuid)\n",
    "NFS_NAME=\"batch{uuid}nfs\".format(uuid=short_uuid)"
   ]
  },
  {
   "cell_type": "code",
   "execution_count": 5,
   "metadata": {},
   "outputs": [
    {
     "name": "stdout",
     "output_type": "stream",
     "text": [
      "Location    Name\r\n",
      "----------  ---------------\r\n",
      "eastus      batch80ca5fa5rg\r\n"
     ]
    }
   ],
   "source": [
    "!az group create -n $GROUP_NAME -o table -l $LOCATION"
   ]
  },
  {
   "cell_type": "code",
   "execution_count": 6,
   "metadata": {},
   "outputs": [
    {
     "name": "stdout",
     "output_type": "stream",
     "text": [
      "Storage account batch80ca5fa5st provisioning state: Succeeded\n"
     ]
    }
   ],
   "source": [
    "json_data = !az storage account create -l $LOCATION -n $STORAGE_ACCOUNT_NAME -g $GROUP_NAME --sku Standard_LRS\n",
    "print('Storage account {} provisioning state: {}'.format(STORAGE_ACCOUNT_NAME, json.loads(''.join(json_data))['provisioningState']))"
   ]
  },
  {
   "cell_type": "code",
   "execution_count": 7,
   "metadata": {
    "collapsed": true
   },
   "outputs": [],
   "source": [
    "json_data = !az storage account keys list -n $STORAGE_ACCOUNT_NAME -g $GROUP_NAME\n",
    "storage_account_key = json.loads(''.join(json_data))[0]['value']"
   ]
  },
  {
   "cell_type": "code",
   "execution_count": 8,
   "metadata": {},
   "outputs": [
    {
     "name": "stdout",
     "output_type": "stream",
     "text": [
      "{\r\n",
      "  \"created\": true\r\n",
      "}\r\n"
     ]
    }
   ],
   "source": [
    "!az storage share create --account-name $STORAGE_ACCOUNT_NAME \\\n",
    "--account-key $storage_account_key --name $FILESHARE_NAME"
   ]
  },
  {
   "cell_type": "code",
   "execution_count": 9,
   "metadata": {},
   "outputs": [
    {
     "name": "stdout",
     "output_type": "stream",
     "text": [
      "{\r\n",
      "  \"created\": true\r\n",
      "}\r\n"
     ]
    }
   ],
   "source": [
    "!az storage directory create --share-name $FILESHARE_NAME  --name scripts \\\n",
    "--account-name $STORAGE_ACCOUNT_NAME --account-key $storage_account_key"
   ]
  },
  {
   "cell_type": "code",
   "execution_count": 10,
   "metadata": {
    "collapsed": true
   },
   "outputs": [],
   "source": [
    "!az configure --defaults location=$LOCATION"
   ]
  },
  {
   "cell_type": "code",
   "execution_count": 11,
   "metadata": {
    "collapsed": true
   },
   "outputs": [],
   "source": [
    "!az configure --defaults group=$GROUP_NAME"
   ]
  },
  {
   "cell_type": "code",
   "execution_count": 12,
   "metadata": {},
   "outputs": [
    {
     "name": "stdout",
     "output_type": "stream",
     "text": [
      "env: AZURE_STORAGE_ACCOUNT=batch80ca5fa5st\n"
     ]
    }
   ],
   "source": [
    "%env AZURE_STORAGE_ACCOUNT $STORAGE_ACCOUNT_NAME"
   ]
  },
  {
   "cell_type": "code",
   "execution_count": 13,
   "metadata": {},
   "outputs": [
    {
     "name": "stdout",
     "output_type": "stream",
     "text": [
      "env: AZURE_STORAGE_KEY=0b5FROnd9S+VNiQDDMl9/tlPkCje003NE14/ks9n9DUBf+x7TbEC2dq2wwUOGq+jDyEhclN3/WqPpbpWmD4IaQ==\n"
     ]
    }
   ],
   "source": [
    "%env AZURE_STORAGE_KEY=$storage_account_key"
   ]
  },
  {
   "cell_type": "code",
   "execution_count": 17,
   "metadata": {},
   "outputs": [
    {
     "name": "stdout",
     "output_type": "stream",
     "text": [
      "\u001b[K{- Finished ..\n",
      "  \"additionalProperties\": {},\n",
      "  \"creationTime\": \"2018-06-04T16:03:03.580000+00:00\",\n",
      "  \"dataDisks\": {\n",
      "    \"additionalProperties\": {},\n",
      "    \"cachingType\": \"none\",\n",
      "    \"diskCount\": 4,\n",
      "    \"diskSizeInGb\": 250,\n",
      "    \"storageAccountType\": \"Premium_LRS\"\n",
      "  },\n",
      "  \"id\": \"/subscriptions/edf507a2-6235-46c5-b560-fd463ba2e771/resourceGroups/batch80ca5fa5rg/providers/Microsoft.BatchAI/fileservers/batch80ca5fa5nfs\",\n",
      "  \"location\": \"eastus\",\n",
      "  \"mountSettings\": {\n",
      "    \"additionalProperties\": {},\n",
      "    \"fileServerInternalIp\": \"10.0.0.4\",\n",
      "    \"fileServerPublicIp\": \"40.117.128.168\",\n",
      "    \"fileServerType\": \"nfs\",\n",
      "    \"mountPoint\": \"/data\"\n",
      "  },\n",
      "  \"name\": \"batch80ca5fa5nfs\",\n",
      "  \"provisioningState\": \"succeeded\",\n",
      "  \"provisioningStateTransitionTime\": \"2018-06-04T16:06:51.732000+00:00\",\n",
      "  \"resourceGroup\": \"batch80ca5fa5rg\",\n",
      "  \"sshConfiguration\": {\n",
      "    \"additionalProperties\": {},\n",
      "    \"publicIpsToAllow\": null,\n",
      "    \"userAccountSettings\": {\n",
      "      \"additionalProperties\": {},\n",
      "      \"adminUserName\": \"mat\",\n",
      "      \"adminUserPassword\": null,\n",
      "      \"adminUserSshPublicKey\": null\n",
      "    }\n",
      "  },\n",
      "  \"subnet\": {\n",
      "    \"additionalProperties\": {},\n",
      "    \"id\": \"/subscriptions/edf507a2-6235-46c5-b560-fd463ba2e771/resourceGroups/fileserverrg-128eca4a-299b-4e5c-a641-cd8de87534da/providers/Microsoft.Network/virtualNetworks/128eca4a-299b-4e5c-a641-cd8de87534davnet/subnets/Subnet-1\",\n",
      "    \"resourceGroup\": \"fileserverrg-128eca4a-299b-4e5c-a641-cd8de87534da\"\n",
      "  },\n",
      "  \"tags\": null,\n",
      "  \"type\": \"Microsoft.BatchAI/FileServers\",\n",
      "  \"vmSize\": \"Standard_DS4_v2\"\n",
      "}\n",
      "\u001b[0m"
     ]
    }
   ],
   "source": [
    "!az batchai file-server create -n $NFS_NAME --disk-count 4 --disk-size 250 -s Standard_DS4_v2 -u mat -p d13NHAL! -g $GROUP_NAME -l $LOCATION --storage-sku Premium_LRS \n"
   ]
  },
  {
   "cell_type": "code",
   "execution_count": 18,
   "metadata": {},
   "outputs": [
    {
     "name": "stdout",
     "output_type": "stream",
     "text": [
      "Name              Resource Group    Size             Disks       Public IP       Internal IP    Type    Mount Point\r\n",
      "----------------  ----------------  ---------------  ----------  --------------  -------------  ------  -------------\r\n",
      "batch80ca5fa5nfs  batch80ca5fa5rg   Standard_DS4_v2  4 x 250 Gb  40.117.128.168  10.0.0.4       nfs     /data\r\n"
     ]
    }
   ],
   "source": [
    "!az batchai file-server list -o table"
   ]
  },
  {
   "cell_type": "code",
   "execution_count": 19,
   "metadata": {},
   "outputs": [
    {
     "name": "stdout",
     "output_type": "stream",
     "text": [
      "Overwriting nodeprep.sh\n"
     ]
    }
   ],
   "source": [
    "%%writefile nodeprep.sh\n",
    "#!/usr/bin/env bash\n",
    "wget https://gist.githubusercontent.com/msalvaris/073c28a9993d58498957294d20d74202/raw/916eefe763c71da49d8ed41cb8474bdc8021af33/install_azcopy\n",
    "chmod 777 install_azcopy\n",
    "sudo ./install_azcopy\n",
    "\n",
    "mkdir -p /data/imagenet\n",
    "\n",
    "azcopy --source https://datasharesa.blob.core.windows.net/imagenet/cntk/val_map.txt \\\n",
    "    --destination  /data/imagenet/val_map.txt \\\n",
    "    --source-sas '?sp=r&st=2018-05-21T13:52:05Z&se=2025-05-21T21:52:05Z&spr=https,http&sv=2017-07-29&sig=YuPsiiPJ%2FUQTvs8U9i1uYuna8bQW5SiIxDGvl27wbyk%3D&sr=b'    \\\n",
    "    --quiet\n",
    "       \n",
    "azcopy --source https://datasharesa.blob.core.windows.net/imagenet/validation.tar.gz \\\n",
    "        --destination  /data/imagenet/validation.tar.gz\\\n",
    "        --source-sas \"?se=2025-01-01&sp=r&sv=2017-04-17&sr=b&sig=zy8L4shZa3XXBe152hPnhXsyfBqCufDOz01a9ZHWU28%3D\"\\\n",
    "        --quiet\n",
    "\n",
    "azcopy --source https://datasharesa.blob.core.windows.net/imagenet/cntk/train_map.txt \\\n",
    "        --destination  /data/imagenet/train_map.txt \\\n",
    "        --source-sas '?sp=r&st=2018-05-21T13:59:25Z&se=2025-05-21T21:59:25Z&spr=https&sv=2017-07-29&sig=Nl5%2FquqbqkaeJeZnM%2BNeX2T9mmMf%2BoLAJtV1OXugkdI%3D&sr=b' \\\n",
    "        --quiet        \n",
    "        \n",
    "        \n",
    "azcopy --source https://datasharesa.blob.core.windows.net/imagenet/train.tar.gz \\\n",
    "        --destination  /data/imagenet/train.tar.gz\\\n",
    "        --source-sas \"?se=2025-01-01&sp=r&sv=2017-04-17&sr=b&sig=qP%2B7lQuFKHo5UhQKpHcKt6p5fHT21lPaLz1O/vv4FNU%3D\"\\\n",
    "        --quiet\n",
    "\n",
    "azcopy --source https://datasharesa.blob.core.windows.net/imagenet/cntk/ImageNet1K_mean.xml \\\n",
    "        --destination /data/imagenet/ImageNet1K_mean.xml \\\n",
    "        --source-sas '?sp=r&st=2018-05-21T14:00:22Z&se=2025-05-21T22:00:22Z&spr=https&sv=2017-07-29&sig=iZgfdPr1vgEHqLJPdOteBulaUQudh6etVH%2FzJ9wGGPU%3D&sr=b' \\\n",
    "        --quiet\n",
    "        \n",
    "cd /data/imagenet\n",
    "tar -xvzf train.tar.gz\n",
    "tar -xzvf validation.tar.gz"
   ]
  },
  {
   "cell_type": "markdown",
   "metadata": {},
   "source": [
    "Copy the file over and run it on the NFS VM. This will install azcopy and download and prepare the data\n",
    "\n",
    "```bash\n",
    "scp nodeprep.sh mat@<VM_IP>:~/\n",
    "ssh mat@<VM_IP> sudo chmod 777 ~/nodeprep.sh\n",
    "ssh mat@<VM_IP> ./nodeprep.sh\n",
    "```\n"
   ]
  },
  {
   "cell_type": "code",
   "execution_count": 161,
   "metadata": {},
   "outputs": [
    {
     "name": "stdout",
     "output_type": "stream",
     "text": [
      "\r",
      "Alive[################################################################]  100.0000%\r",
      "Finished[#############################################################]  100.0000%\r\n"
     ]
    }
   ],
   "source": [
    "!az storage file upload --share-name $FILESHARE_NAME --source ../execution/ImagenetEstimatorCNTK.py --path scripts"
   ]
  },
  {
   "cell_type": "code",
   "execution_count": 21,
   "metadata": {},
   "outputs": [
    {
     "name": "stdout",
     "output_type": "stream",
     "text": [
      "\r",
      "Alive[################################################################]  100.0000%\r",
      "Finished[#############################################################]  100.0000%\r\n"
     ]
    }
   ],
   "source": [
    "!az storage file upload --share-name $FILESHARE_NAME --source ../execution/resnet_models.py --path scripts"
   ]
  },
  {
   "cell_type": "code",
   "execution_count": 123,
   "metadata": {
    "scrolled": true
   },
   "outputs": [
    {
     "name": "stdout",
     "output_type": "stream",
     "text": [
      "\u001b[K{- Finished ..\n",
      "  \"additionalProperties\": {},\n",
      "  \"allocationState\": \"resizing\",\n",
      "  \"allocationStateTransitionTime\": \"2018-06-05T20:39:27.398000+00:00\",\n",
      "  \"creationTime\": \"2018-06-05T20:39:27.398000+00:00\",\n",
      "  \"currentNodeCount\": 0,\n",
      "  \"errors\": null,\n",
      "  \"id\": \"/subscriptions/edf507a2-6235-46c5-b560-fd463ba2e771/resourceGroups/batch80ca5fa5rg/providers/Microsoft.BatchAI/clusters/nc24r\",\n",
      "  \"location\": \"eastus\",\n",
      "  \"name\": \"nc24r\",\n",
      "  \"nodeSetup\": {\n",
      "    \"additionalProperties\": {},\n",
      "    \"mountVolumes\": {\n",
      "      \"additionalProperties\": {},\n",
      "      \"azureBlobFileSystems\": null,\n",
      "      \"azureFileShares\": [\n",
      "        {\n",
      "          \"accountName\": \"batch80ca5fa5st\",\n",
      "          \"additionalProperties\": {},\n",
      "          \"azureFileUrl\": \"https://batch80ca5fa5st.file.core.windows.net/batch80ca5fa5share\",\n",
      "          \"credentials\": {\n",
      "            \"accountKey\": null,\n",
      "            \"accountKeySecretReference\": null,\n",
      "            \"additionalProperties\": {}\n",
      "          },\n",
      "          \"directoryMode\": \"0777\",\n",
      "          \"fileMode\": \"0777\",\n",
      "          \"relativeMountPath\": \"extfs\"\n",
      "        }\n",
      "      ],\n",
      "      \"fileServers\": [\n",
      "        {\n",
      "          \"additionalProperties\": {},\n",
      "          \"fileServer\": {\n",
      "            \"additionalProperties\": {},\n",
      "            \"id\": \"/subscriptions/edf507a2-6235-46c5-b560-fd463ba2e771/resourceGroups/batch80ca5fa5rg/providers/Microsoft.BatchAI/fileservers/batch80ca5fa5nfs\",\n",
      "            \"resourceGroup\": \"batch80ca5fa5rg\"\n",
      "          },\n",
      "          \"mountOptions\": \"rw\",\n",
      "          \"relativeMountPath\": \"nfs\",\n",
      "          \"sourceDirectory\": null\n",
      "        }\n",
      "      ],\n",
      "      \"unmanagedFileSystems\": null\n",
      "    },\n",
      "    \"performanceCountersSettings\": null,\n",
      "    \"setupTask\": null\n",
      "  },\n",
      "  \"nodeStateCounts\": {\n",
      "    \"additionalProperties\": {},\n",
      "    \"idleNodeCount\": 0,\n",
      "    \"leavingNodeCount\": 0,\n",
      "    \"preparingNodeCount\": 0,\n",
      "    \"runningNodeCount\": 0,\n",
      "    \"unusableNodeCount\": 0\n",
      "  },\n",
      "  \"provisioningState\": \"succeeded\",\n",
      "  \"provisioningStateTransitionTime\": \"2018-06-05T20:39:28.949000+00:00\",\n",
      "  \"resourceGroup\": \"batch80ca5fa5rg\",\n",
      "  \"scaleSettings\": {\n",
      "    \"additionalProperties\": {},\n",
      "    \"autoScale\": null,\n",
      "    \"manual\": {\n",
      "      \"additionalProperties\": {},\n",
      "      \"nodeDeallocationOption\": \"requeue\",\n",
      "      \"targetNodeCount\": 8\n",
      "    }\n",
      "  },\n",
      "  \"subnet\": {\n",
      "    \"additionalProperties\": {},\n",
      "    \"id\": \"/subscriptions/edf507a2-6235-46c5-b560-fd463ba2e771/resourceGroups/fileserverrg-128eca4a-299b-4e5c-a641-cd8de87534da/providers/Microsoft.Network/virtualNetworks/128eca4a-299b-4e5c-a641-cd8de87534davnet/subnets/Subnet-1\",\n",
      "    \"resourceGroup\": \"fileserverrg-128eca4a-299b-4e5c-a641-cd8de87534da\"\n",
      "  },\n",
      "  \"tags\": null,\n",
      "  \"type\": \"Microsoft.BatchAI/Clusters\",\n",
      "  \"userAccountSettings\": {\n",
      "    \"additionalProperties\": {},\n",
      "    \"adminUserName\": \"mat\",\n",
      "    \"adminUserPassword\": null,\n",
      "    \"adminUserSshPublicKey\": null\n",
      "  },\n",
      "  \"virtualMachineConfiguration\": {\n",
      "    \"additionalProperties\": {},\n",
      "    \"imageReference\": {\n",
      "      \"additionalProperties\": {},\n",
      "      \"offer\": \"UbuntuServer\",\n",
      "      \"publisher\": \"Canonical\",\n",
      "      \"sku\": \"16.04-LTS\",\n",
      "      \"version\": \"latest\",\n",
      "      \"virtualMachineImageId\": null\n",
      "    }\n",
      "  },\n",
      "  \"vmPriority\": \"dedicated\",\n",
      "  \"vmSize\": \"STANDARD_NC24RS_V3\"\n",
      "}\n",
      "\u001b[0m"
     ]
    }
   ],
   "source": [
    "!az batchai cluster create \\\n",
    "--name nc24r \\\n",
    "--image UbuntuLTS \\\n",
    "--vm-size Standard_NC24rs_v3 \\\n",
    "--min 8 --max 8 \\\n",
    "--afs-name $FILESHARE_NAME \\\n",
    "--afs-mount-path extfs \\\n",
    "--user-name mat \\\n",
    "--password dnstvxrz \\\n",
    "--storage-account-name $STORAGE_ACCOUNT_NAME \\\n",
    "--storage-account-key $storage_account_key \\\n",
    "--nfs $NFS_NAME \\\n",
    "--nfs-mount-path nfs"
   ]
  },
  {
   "cell_type": "code",
   "execution_count": 44,
   "metadata": {
    "scrolled": true
   },
   "outputs": [
    {
     "name": "stdout",
     "output_type": "stream",
     "text": [
      "{\r\n",
      "  \"additionalProperties\": {},\r\n",
      "  \"allocationState\": \"resizing\",\r\n",
      "  \"allocationStateTransitionTime\": \"2018-06-04T20:22:21.168000+00:00\",\r\n",
      "  \"creationTime\": \"2018-06-04T20:22:21.168000+00:00\",\r\n",
      "  \"currentNodeCount\": 0,\r\n",
      "  \"errors\": null,\r\n",
      "  \"id\": \"/subscriptions/edf507a2-6235-46c5-b560-fd463ba2e771/resourceGroups/batch80ca5fa5rg/providers/Microsoft.BatchAI/clusters/nc24r\",\r\n",
      "  \"location\": \"eastus\",\r\n",
      "  \"name\": \"nc24r\",\r\n",
      "  \"nodeSetup\": {\r\n",
      "    \"additionalProperties\": {},\r\n",
      "    \"mountVolumes\": {\r\n",
      "      \"additionalProperties\": {},\r\n",
      "      \"azureBlobFileSystems\": null,\r\n",
      "      \"azureFileShares\": [\r\n",
      "        {\r\n",
      "          \"accountName\": \"batch80ca5fa5st\",\r\n",
      "          \"additionalProperties\": {},\r\n",
      "          \"azureFileUrl\": \"https://batch80ca5fa5st.file.core.windows.net/batch80ca5fa5share\",\r\n",
      "          \"credentials\": {\r\n",
      "            \"accountKey\": null,\r\n",
      "            \"accountKeySecretReference\": null,\r\n",
      "            \"additionalProperties\": {}\r\n",
      "          },\r\n",
      "          \"directoryMode\": \"0777\",\r\n",
      "          \"fileMode\": \"0777\",\r\n",
      "          \"relativeMountPath\": \"extfs\"\r\n",
      "        }\r\n",
      "      ],\r\n",
      "      \"fileServers\": [\r\n",
      "        {\r\n",
      "          \"additionalProperties\": {},\r\n",
      "          \"fileServer\": {\r\n",
      "            \"additionalProperties\": {},\r\n",
      "            \"id\": \"/subscriptions/edf507a2-6235-46c5-b560-fd463ba2e771/resourceGroups/batch80ca5fa5rg/providers/Microsoft.BatchAI/fileservers/batch80ca5fa5nfs\",\r\n",
      "            \"resourceGroup\": \"batch80ca5fa5rg\"\r\n",
      "          },\r\n",
      "          \"mountOptions\": \"rw\",\r\n",
      "          \"relativeMountPath\": \"nfs\",\r\n",
      "          \"sourceDirectory\": null\r\n",
      "        }\r\n",
      "      ],\r\n",
      "      \"unmanagedFileSystems\": null\r\n",
      "    },\r\n",
      "    \"performanceCountersSettings\": null,\r\n",
      "    \"setupTask\": null\r\n",
      "  },\r\n",
      "  \"nodeStateCounts\": {\r\n",
      "    \"additionalProperties\": {},\r\n",
      "    \"idleNodeCount\": 0,\r\n",
      "    \"leavingNodeCount\": 0,\r\n",
      "    \"preparingNodeCount\": 0,\r\n",
      "    \"runningNodeCount\": 0,\r\n",
      "    \"unusableNodeCount\": 0\r\n",
      "  },\r\n",
      "  \"provisioningState\": \"succeeded\",\r\n",
      "  \"provisioningStateTransitionTime\": \"2018-06-04T20:22:22.246000+00:00\",\r\n",
      "  \"resourceGroup\": \"batch80ca5fa5rg\",\r\n",
      "  \"scaleSettings\": {\r\n",
      "    \"additionalProperties\": {},\r\n",
      "    \"autoScale\": null,\r\n",
      "    \"manual\": {\r\n",
      "      \"additionalProperties\": {},\r\n",
      "      \"nodeDeallocationOption\": \"requeue\",\r\n",
      "      \"targetNodeCount\": 8\r\n",
      "    }\r\n",
      "  },\r\n",
      "  \"subnet\": {\r\n",
      "    \"additionalProperties\": {},\r\n",
      "    \"id\": \"/subscriptions/edf507a2-6235-46c5-b560-fd463ba2e771/resourceGroups/fileserverrg-128eca4a-299b-4e5c-a641-cd8de87534da/providers/Microsoft.Network/virtualNetworks/128eca4a-299b-4e5c-a641-cd8de87534davnet/subnets/Subnet-1\",\r\n",
      "    \"resourceGroup\": \"fileserverrg-128eca4a-299b-4e5c-a641-cd8de87534da\"\r\n",
      "  },\r\n",
      "  \"tags\": null,\r\n",
      "  \"type\": \"Microsoft.BatchAI/Clusters\",\r\n",
      "  \"userAccountSettings\": {\r\n",
      "    \"additionalProperties\": {},\r\n",
      "    \"adminUserName\": \"mat\",\r\n",
      "    \"adminUserPassword\": null,\r\n",
      "    \"adminUserSshPublicKey\": null\r\n",
      "  },\r\n",
      "  \"virtualMachineConfiguration\": {\r\n",
      "    \"additionalProperties\": {},\r\n",
      "    \"imageReference\": {\r\n",
      "      \"additionalProperties\": {},\r\n",
      "      \"offer\": \"UbuntuServer\",\r\n",
      "      \"publisher\": \"Canonical\",\r\n",
      "      \"sku\": \"16.04-LTS\",\r\n",
      "      \"version\": \"latest\",\r\n",
      "      \"virtualMachineImageId\": null\r\n",
      "    }\r\n",
      "  },\r\n",
      "  \"vmPriority\": \"dedicated\",\r\n",
      "  \"vmSize\": \"STANDARD_NC24RS_V3\"\r\n",
      "}\r\n"
     ]
    }
   ],
   "source": [
    "!az batchai cluster show -n nc24r"
   ]
  },
  {
   "cell_type": "code",
   "execution_count": 167,
   "metadata": {},
   "outputs": [
    {
     "name": "stdout",
     "output_type": "stream",
     "text": [
      "\r\n"
     ]
    }
   ],
   "source": [
    "!az batchai cluster list -o table"
   ]
  },
  {
   "cell_type": "code",
   "execution_count": 104,
   "metadata": {},
   "outputs": [
    {
     "name": "stdout",
     "output_type": "stream",
     "text": [
      "ID                                 IP               Port\r\n",
      "---------------------------------  -------------  ------\r\n",
      "tvm-4155946844_1-20180605t151846z  13.68.131.112   50006\r\n",
      "tvm-4155946844_2-20180605t151846z  13.68.131.112   50002\r\n",
      "tvm-4155946844_3-20180605t151846z  13.68.131.112   50005\r\n",
      "tvm-4155946844_4-20180605t151846z  13.68.131.112   50001\r\n",
      "tvm-4155946844_5-20180605t151846z  13.68.131.112   50004\r\n",
      "tvm-4155946844_6-20180605t151846z  13.68.131.112   50000\r\n",
      "tvm-4155946844_7-20180605t151846z  13.68.131.112   50007\r\n",
      "tvm-4155946844_8-20180605t151846z  13.68.131.112   50003\r\n"
     ]
    }
   ],
   "source": [
    "!az batchai cluster list-nodes -n nc24r -o table"
   ]
  },
  {
   "cell_type": "code",
   "execution_count": 162,
   "metadata": {
    "collapsed": true
   },
   "outputs": [],
   "source": [
    "jobs_dict = {\n",
    "  \"$schema\": \"https://raw.githubusercontent.com/Azure/BatchAI/master/schemas/2017-09-01-preview/job.json\",\n",
    "  \"properties\": {\n",
    "    \"nodeCount\": 8,\n",
    "    \"cntkSettings\": {\n",
    "            \"pythonScriptFilePath\": \"$AZ_BATCHAI_INPUT_SCRIPTS/ImagenetEstimatorCNTK.py\",\n",
    "            \"processCount\": 32\n",
    "        },\n",
    "    \"stdOutErrPathPrefix\": \"$AZ_BATCHAI_MOUNT_ROOT/extfs\",\n",
    "    \"inputDirectories\": [{\n",
    "        \"id\": \"SCRIPTS\",\n",
    "        \"path\": \"$AZ_BATCHAI_MOUNT_ROOT/extfs/scripts\"\n",
    "      },\n",
    "      {\n",
    "        \"id\": \"TRAIN\",\n",
    "        \"path\": \"$AZ_BATCHAI_MOUNT_ROOT/imagenet\",\n",
    "      },\n",
    "      {\n",
    "        \"id\": \"TEST\",\n",
    "        \"path\": \"$AZ_BATCHAI_MOUNT_ROOT/imagenet\",\n",
    "      },\n",
    "    ],\n",
    "    \"outputDirectories\": [{\n",
    "        \"id\": \"MODEL\",\n",
    "        \"pathPrefix\": \"$AZ_BATCHAI_MOUNT_ROOT/extfs\",\n",
    "        \"pathSuffix\": \"Models\"\n",
    "    }],\n",
    "    \"containerSettings\": {\n",
    "      \"imageSourceRegistry\": {\n",
    "        \"image\": \"hoaphumanoid/cntk:2.5.1-cuda9.0-cudnn7.0.5-libopenmpi-py3.5-pip\"\n",
    "      }\n",
    "    }\n",
    "  }\n",
    "}"
   ]
  },
  {
   "cell_type": "code",
   "execution_count": 163,
   "metadata": {
    "collapsed": true
   },
   "outputs": [],
   "source": [
    "write_json_to_file(jobs_dict, 'job.json')"
   ]
  },
  {
   "cell_type": "code",
   "execution_count": 164,
   "metadata": {
    "scrolled": true
   },
   "outputs": [
    {
     "name": "stdout",
     "output_type": "stream",
     "text": [
      "\u001b[K{- Finished ..\n",
      "  \"additionalProperties\": {},\n",
      "  \"caffeSettings\": null,\n",
      "  \"chainerSettings\": null,\n",
      "  \"cluster\": {\n",
      "    \"additionalProperties\": {},\n",
      "    \"id\": \"/subscriptions/edf507a2-6235-46c5-b560-fd463ba2e771/resourceGroups/batch80ca5fa5rg/providers/Microsoft.BatchAI/clusters/nc24r\",\n",
      "    \"resourceGroup\": \"batch80ca5fa5rg\"\n",
      "  },\n",
      "  \"cntkSettings\": {\n",
      "    \"additionalProperties\": {},\n",
      "    \"commandLineArgs\": null,\n",
      "    \"configFilePath\": null,\n",
      "    \"languageType\": \"Python\",\n",
      "    \"processCount\": 32,\n",
      "    \"pythonInterpreterPath\": null,\n",
      "    \"pythonScriptFilePath\": \"$AZ_BATCHAI_INPUT_SCRIPTS/ImagenetEstimatorCNTK.py\"\n",
      "  },\n",
      "  \"constraints\": {\n",
      "    \"additionalProperties\": {},\n",
      "    \"maxWallClockTime\": \"7 days, 0:00:00\"\n",
      "  },\n",
      "  \"containerSettings\": {\n",
      "    \"additionalProperties\": {},\n",
      "    \"imageSourceRegistry\": {\n",
      "      \"additionalProperties\": {},\n",
      "      \"credentials\": null,\n",
      "      \"image\": \"hoaphumanoid/cntk:2.5.1-cuda9.0-cudnn7.0.5-libopenmpi-py3.5-pip\",\n",
      "      \"serverUrl\": null\n",
      "    }\n",
      "  },\n",
      "  \"creationTime\": \"2018-06-06T10:40:11.382000+00:00\",\n",
      "  \"customToolkitSettings\": null,\n",
      "  \"environmentVariables\": null,\n",
      "  \"executionInfo\": {\n",
      "    \"additionalProperties\": {},\n",
      "    \"endTime\": null,\n",
      "    \"errors\": null,\n",
      "    \"exitCode\": null,\n",
      "    \"startTime\": \"2018-06-06T10:40:13.935000+00:00\"\n",
      "  },\n",
      "  \"executionState\": \"running\",\n",
      "  \"executionStateTransitionTime\": \"2018-06-06T10:40:13.979000+00:00\",\n",
      "  \"experimentName\": null,\n",
      "  \"id\": \"/subscriptions/edf507a2-6235-46c5-b560-fd463ba2e771/resourceGroups/batch80ca5fa5rg/providers/Microsoft.BatchAI/jobs/cntk_pip10\",\n",
      "  \"inputDirectories\": [\n",
      "    {\n",
      "      \"additionalProperties\": {},\n",
      "      \"id\": \"SCRIPTS\",\n",
      "      \"path\": \"$AZ_BATCHAI_MOUNT_ROOT/extfs/scripts\"\n",
      "    },\n",
      "    {\n",
      "      \"additionalProperties\": {},\n",
      "      \"id\": \"TRAIN\",\n",
      "      \"path\": \"$AZ_BATCHAI_MOUNT_ROOT/imagenet\"\n",
      "    },\n",
      "    {\n",
      "      \"additionalProperties\": {},\n",
      "      \"id\": \"TEST\",\n",
      "      \"path\": \"$AZ_BATCHAI_MOUNT_ROOT/imagenet\"\n",
      "    }\n",
      "  ],\n",
      "  \"jobOutputDirectoryPathSegment\": \"edf507a2-6235-46c5-b560-fd463ba2e771/batch80ca5fa5rg/jobs/cntk_pip10/f2321f1f-b169-4892-ba81-7f307f5ba6b8\",\n",
      "  \"jobPreparation\": null,\n",
      "  \"location\": null,\n",
      "  \"mountVolumes\": null,\n",
      "  \"name\": \"cntk_pip10\",\n",
      "  \"nodeCount\": 8,\n",
      "  \"outputDirectories\": [\n",
      "    {\n",
      "      \"additionalProperties\": {},\n",
      "      \"createNew\": true,\n",
      "      \"id\": \"MODEL\",\n",
      "      \"pathPrefix\": \"$AZ_BATCHAI_MOUNT_ROOT/extfs\",\n",
      "      \"pathSuffix\": \"Models\",\n",
      "      \"type\": \"custom\"\n",
      "    }\n",
      "  ],\n",
      "  \"priority\": 0,\n",
      "  \"provisioningState\": \"succeeded\",\n",
      "  \"provisioningStateTransitionTime\": \"2018-06-06T10:40:12.836000+00:00\",\n",
      "  \"pyTorchSettings\": null,\n",
      "  \"resourceGroup\": \"batch80ca5fa5rg\",\n",
      "  \"secrets\": null,\n",
      "  \"stdOutErrPathPrefix\": \"$AZ_BATCHAI_MOUNT_ROOT/extfs\",\n",
      "  \"tags\": null,\n",
      "  \"tensorFlowSettings\": null,\n",
      "  \"toolType\": \"cntk\",\n",
      "  \"type\": \"Microsoft.BatchAI/Jobs\"\n",
      "}\n",
      "\u001b[0m"
     ]
    }
   ],
   "source": [
    "!az batchai job create -n cntk_pip10 --cluster-name nc24r -c job.json -g $GROUP_NAME"
   ]
  },
  {
   "cell_type": "code",
   "execution_count": 50,
   "metadata": {},
   "outputs": [
    {
     "name": "stdout",
     "output_type": "stream",
     "text": [
      "Name            Resource Group    Cluster    Cluster RG       Tool      Nodes  State\r\n",
      "--------------  ----------------  ---------  ---------------  ------  -------  -------\r\n",
      "cntk_benchmark  batch80ca5fa5rg   nc24r      batch80ca5fa5rg  cntk          8  queued\r\n"
     ]
    }
   ],
   "source": [
    "!az batchai job list -o table -g $GROUP_NAME"
   ]
  },
  {
   "cell_type": "code",
   "execution_count": null,
   "metadata": {
    "collapsed": true
   },
   "outputs": [],
   "source": [
    "!az batchai job file stream -n cntk_benchmark -g $GROUP_NAME -f stdout.txt"
   ]
  },
  {
   "cell_type": "code",
   "execution_count": null,
   "metadata": {
    "collapsed": true
   },
   "outputs": [],
   "source": []
  },
  {
   "cell_type": "code",
   "execution_count": 116,
   "metadata": {},
   "outputs": [
    {
     "name": "stdout",
     "output_type": "stream",
     "text": [
      "\u001b[K\u001b[0minished .."
     ]
    }
   ],
   "source": [
    "!az batchai job delete --name cntk_benchmark_pip3 -y"
   ]
  },
  {
   "cell_type": "code",
   "execution_count": null,
   "metadata": {
    "collapsed": true
   },
   "outputs": [],
   "source": [
    "!az configure --defaults group=''\n",
    "!az configure --defaults location=''"
   ]
  },
  {
   "cell_type": "code",
   "execution_count": 166,
   "metadata": {},
   "outputs": [
    {
     "name": "stdout",
     "output_type": "stream",
     "text": [
      "\u001b[K\u001b[0minished .."
     ]
    }
   ],
   "source": [
    "!az batchai cluster delete --name nc24r -g $GROUP_NAME -y"
   ]
  },
  {
   "cell_type": "code",
   "execution_count": null,
   "metadata": {
    "collapsed": true
   },
   "outputs": [],
   "source": [
    "!az group delete --name $GROUP_NAME -y"
   ]
  }
 ],
 "metadata": {
  "kernelspec": {
   "display_name": "Python 3",
   "language": "python",
   "name": "python3"
  },
  "language_info": {
   "codemirror_mode": {
    "name": "ipython",
    "version": 3
   },
   "file_extension": ".py",
   "mimetype": "text/x-python",
   "name": "python",
   "nbconvert_exporter": "python",
   "pygments_lexer": "ipython3",
   "version": "3.5.4"
  }
 },
 "nbformat": 4,
 "nbformat_minor": 2
}
